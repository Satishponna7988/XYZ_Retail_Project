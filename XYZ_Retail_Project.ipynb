{
 "cells": [
  {
   "cell_type": "code",
   "execution_count": 13,
   "id": "35f82044-7c58-4d88-bf1c-d6838be04755",
   "metadata": {},
   "outputs": [
    {
     "name": "stdin",
     "output_type": "stream",
     "text": [
      "Units in Category A 15\n",
      "Units in Category B 10\n"
     ]
    },
    {
     "name": "stdout",
     "output_type": "stream",
     "text": [
      "25\n",
      "5\n",
      "1.5\n"
     ]
    }
   ],
   "source": [
    "##Task 1: Sales Data Summary\n",
    "\n",
    "CategoryAUnits=int(input(\"Units in Category A\"))\n",
    "CategoryBUnits=int(input(\"Units in Category B\"))\n",
    "TotalUnitsSold=CategoryAUnits+CategoryBUnits\n",
    "Difference=CategoryAUnits-CategoryBUnits\n",
    "ratio=CategoryAUnits/CategoryBUnits\n",
    "print(TotalUnitsSold)\n",
    "print(Difference)\n",
    "print(ratio)"
   ]
  },
  {
   "cell_type": "code",
   "execution_count": 27,
   "id": "0ce344b2-bad1-4059-988c-488a860201d5",
   "metadata": {},
   "outputs": [
    {
     "name": "stdin",
     "output_type": "stream",
     "text": [
      "Name of customer satish\n",
      "Age of customer 45\n"
     ]
    },
    {
     "name": "stdout",
     "output_type": "stream",
     "text": [
      "Dear satish, at 45, you’re not eligible for our premium loyalty program at this time.\n"
     ]
    }
   ],
   "source": [
    "##Task 2: Customer Age Data\n",
    "\n",
    "customer_name=input(\"Name of customer\")\n",
    "customer_age=int(input(\"Age of customer\"))\n",
    "if customer_age < 35:\n",
    "   personalized_message = f\"Dear {customer_name}, at {str(customer_age)}, you’re eligible for our premium loyalty program.\"\n",
    "else:\n",
    "    personalized_message = f\"Dear {customer_name}, at {str(customer_age)}, you’re not eligible for our premium loyalty program at this time.\"\n",
    "\n",
    "print(personalized_message)\n"
   ]
  },
  {
   "cell_type": "code",
   "execution_count": 9,
   "id": "4fc2e666-096e-4a22-84e5-55756e3c1993",
   "metadata": {},
   "outputs": [
    {
     "name": "stdout",
     "output_type": "stream",
     "text": [
      "Highest Price: 45\n",
      "Lowest Price: 7\n",
      "Mid-range Products: [15, 23, 8, 32, 12, 19, 18, 11, 9]\n",
      "Updated Product List: [15, 23, 8, 45, 32, 12, 19, 7, 18, 11, 9, 55]\n"
     ]
    }
   ],
   "source": [
    "##Task 3: Product List Management\n",
    "\n",
    "product_prices = [15, 23, 8, 45, 32, 12, 19, 7, 18, 11, 9]\n",
    "highest_price = max(product_prices)\n",
    "lowest_price = min(product_prices)\n",
    "\n",
    "print(f\"Highest Price: {highest_price}\")\n",
    "print(f\"Lowest Price: {lowest_price}\")\n",
    "\n",
    "mid_range_products = [price for price in product_prices if price != highest_price and price != lowest_price]\n",
    "\n",
    "print(f\"Mid-range Products: {mid_range_products}\")\n",
    "\n",
    "premium_price = 55  \n",
    "product_prices.append(premium_price)\n",
    "\n",
    "print(f\"Updated Product List: {product_prices}\")\n"
   ]
  },
  {
   "cell_type": "code",
   "execution_count": 39,
   "id": "ab7744f3-9939-4fa7-8c08-16fa5dcb7cd4",
   "metadata": {},
   "outputs": [
    {
     "name": "stdout",
     "output_type": "stream",
     "text": [
      "Product Name: Wireless Mouse\n",
      "SKU: WM12345\n"
     ]
    }
   ],
   "source": [
    "##Task 4: Inventory Lookup\n",
    "product_info = {\n",
    "    'product_name': 'Wireless Mouse',\n",
    "    'SKU': 'WM12345',\n",
    "    'price': 25.99,\n",
    "    'category': 'Electronics'\n",
    "}\n",
    "\n",
    "def query_product_details(product_dict):\n",
    "    product_name = product_dict.get('product_name')\n",
    "    sku = product_dict.get('SKU')\n",
    "\n",
    "    print(f\"Product Name: {product_name}\")\n",
    "    print(f\"SKU: {sku}\")\n",
    "\n",
    "query_product_details(product_info)\n"
   ]
  },
  {
   "cell_type": "code",
   "execution_count": 47,
   "id": "df0d9b00-92eb-4e81-a915-931b5c55ebb4",
   "metadata": {},
   "outputs": [
    {
     "name": "stdin",
     "output_type": "stream",
     "text": [
      "Enter the current stock level:  12\n"
     ]
    },
    {
     "name": "stdout",
     "output_type": "stream",
     "text": [
      "Stock is sufficient.\n"
     ]
    }
   ],
   "source": [
    "##Task 5: Stock Level Alert System\n",
    "\n",
    "threshold = 10 \n",
    "\n",
    "def check_stock_level(stock):\n",
    "    if stock < threshold:\n",
    "        print(\"Reorder Now\")\n",
    "    else:\n",
    "        print(\"Stock is sufficient.\")\n",
    "\n",
    "try:\n",
    "    stock_level = int(input(\"Enter the current stock level: \"))\n",
    "    check_stock_level(stock_level)\n",
    "except ValueError:\n",
    "    print(\"Please enter a valid integer for the stock level.\")\n"
   ]
  },
  {
   "cell_type": "code",
   "execution_count": 76,
   "id": "ce9fb775-00f2-47f0-ac49-3d2e894d7d47",
   "metadata": {},
   "outputs": [
    {
     "name": "stdout",
     "output_type": "stream",
     "text": [
      "loop:\n",
      "WIRELESS MOUSE\n",
      "LAPTOP STAND\n",
      "KEYBOARD\n",
      "MONITOR\n",
      "USB HUB\n",
      "\n",
      "while:\n",
      "WIRELESS MOUSE\n",
      "LAPTOP STAND\n",
      "KEYBOARD\n",
      "MONITOR\n",
      "USB HUB\n"
     ]
    }
   ],
   "source": [
    "##Task 6: Sales Report Formatting\n",
    "\n",
    "\n",
    "products_sold = ['Wireless Mouse', 'Laptop Stand', 'Keyboard', 'Monitor', 'USB Hub']\n",
    "\n",
    "print(\"loop:\")\n",
    "for product in products_sold:\n",
    "    print(product.upper())\n",
    "\n",
    "print(\"\\nwhile:\")\n",
    "index = 0\n",
    "while index < len(products_sold):\n",
    "    print(products_sold[index].upper())\n",
    "    index += 1\n"
   ]
  },
  {
   "cell_type": "code",
   "execution_count": 78,
   "id": "a7034294-0f68-42ef-adad-1b96d17afb23",
   "metadata": {},
   "outputs": [
    {
     "name": "stdout",
     "output_type": "stream",
     "text": [
      "The area of the Entrance Area is 55.00 square units.\n",
      "The area of the Clothing Section is 120.00 square units.\n",
      "The area of the Electronics Section is 250.00 square units.\n",
      "The area of the Furniture Section is 180.00 square units.\n",
      "The area of the Storage Area is 84.00 square units.\n"
     ]
    }
   ],
   "source": [
    "##Task 7: Area Calculation for Store Layout\n",
    "\n",
    "def calculate_area(length, width):\n",
    "    \"\"\"\n",
    "    Calculate the area of a store section.\n",
    "    \n",
    "    Args:\n",
    "    length (float): The length of the section.\n",
    "    width (float): The width of the section.\n",
    "    \n",
    "    Returns:\n",
    "    float: The calculated area of the section.\n",
    "    \"\"\"\n",
    "    return length * width\n",
    "\n",
    "sections = [\n",
    "    {\"name\": \"Entrance Area\", \"length\": 10.0, \"width\": 5.5},\n",
    "    {\"name\": \"Clothing Section\", \"length\": 15.0, \"width\": 8.0},\n",
    "    {\"name\": \"Electronics Section\", \"length\": 20.0, \"width\": 12.5},\n",
    "    {\"name\": \"Furniture Section\", \"length\": 18.0, \"width\": 10.0},\n",
    "    {\"name\": \"Storage Area\", \"length\": 12.0, \"width\": 7.0}\n",
    "]\n",
    "\n",
    "for section in sections:\n",
    "    area = calculate_area(section[\"length\"], section[\"width\"])\n",
    "    print(f\"The area of the {section['name']} is {area:.2f} square units.\")\n"
   ]
  },
  {
   "cell_type": "code",
   "execution_count": 80,
   "id": "690c89f2-6bf2-485c-92e7-bcd438dfb115",
   "metadata": {},
   "outputs": [
    {
     "name": "stdout",
     "output_type": "stream",
     "text": [
      "Number of vowels in the feedback message: 17\n",
      "Reversed feedback message: .lufpleh dna yldneirf saw ffats eht dna tnellecxe saw ecivres ehT\n"
     ]
    }
   ],
   "source": [
    "##Task 8: Customer Feedback Analysis\n",
    "def count_vowels(feedback):\n",
    "    vowels = \"aeiouAEIOU\"  # Vowel characters (both lowercase and uppercase)\n",
    "    count = 0\n",
    "    for char in feedback:\n",
    "        if char in vowels:\n",
    "            count += 1\n",
    "    return count\n",
    "\n",
    "def reverse_message(feedback):\n",
    "    return feedback[::-1]\n",
    "\n",
    "customer_feedback = \"The service was excellent and the staff was friendly and helpful.\"\n",
    "\n",
    "vowel_count = count_vowels(customer_feedback)\n",
    "print(f\"Number of vowels in the feedback message: {vowel_count}\")\n",
    "\n",
    "reversed_feedback = reverse_message(customer_feedback)\n",
    "print(f\"Reversed feedback message: {reversed_feedback}\")\n"
   ]
  },
  {
   "cell_type": "code",
   "execution_count": 74,
   "id": "b074894b-ea7a-4f4b-8b8b-782e85cee39d",
   "metadata": {},
   "outputs": [
    {
     "name": "stdout",
     "output_type": "stream",
     "text": [
      "Eligible products for the discount campaign:\n",
      "Laptop Stand\n",
      "Monitor\n"
     ]
    }
   ],
   "source": [
    "##Task 9: Price Filtering Tool\n",
    "products = [\n",
    "    {\"name\": \"Wireless Mouse\", \"price\": 450},\n",
    "    {\"name\": \"Laptop Stand\", \"price\": 2300},\n",
    "    {\"name\": \"Keyboard\", \"price\": 899},\n",
    "    {\"name\": \"Monitor\", \"price\": 4500},\n",
    "    {\"name\": \"USB Hub\", \"price\": 1200},\n",
    "    {\"name\": \"Webcam\", \"price\": 1900}\n",
    "]\n",
    "\n",
    "threshold_price = 2000\n",
    "eligible_products = [product[\"name\"] for product in products if product[\"price\"] >= threshold_price]\n",
    "\n",
    "\n",
    "print(\"Eligible products for the discount campaign:\")\n",
    "for product in eligible_products:\n",
    "    print(product)\n"
   ]
  },
  {
   "cell_type": "code",
   "execution_count": 4,
   "id": "a2a03ec6-584a-46db-aec3-ab1f58a15fc4",
   "metadata": {},
   "outputs": [
    {
     "name": "stdin",
     "output_type": "stream",
     "text": [
      "Enter product name:  maaza\n",
      "Enter product price:  10\n",
      "Enter product quantity:  10\n",
      "Do you want to add another product? (yes/no):  yes\n",
      "Enter product name:  thumsup\n",
      "Enter product price:  20\n",
      "Enter product quantity:  25\n",
      "Do you want to add another product? (yes/no):  no\n"
     ]
    },
    {
     "name": "stdout",
     "output_type": "stream",
     "text": [
      "Product data has been written to 'sales_log.txt'.\n",
      "\n",
      "List of Products:\n",
      "Name: maaza, Price: 10.0, Quantity: 10, Total Price: 100.0\n",
      "Name: thumsup, Price: 20.0, Quantity: 25, Total Price: 500.0\n",
      "\n",
      "Total Price of All Products: 600.0\n"
     ]
    }
   ],
   "source": [
    "##Task 10: Sales Log File Management\n",
    "def get_product_data():\n",
    "\n",
    "    products = []\n",
    "\n",
    "    while True:\n",
    "    \n",
    "        name = input(\"Enter product name: \")\n",
    "        price = float(input(\"Enter product price: \"))\n",
    "        quantity = int(input(\"Enter product quantity: \"))\n",
    "\n",
    "        product = {\n",
    "            'name': name,\n",
    "            'price': price,\n",
    "            'quantity': quantity,\n",
    "            'total_price': price * quantity  \n",
    "        }\n",
    "        products.append(product)\n",
    "\n",
    "        continue_input = input(\"Do you want to add another product? (yes/no): \").lower()\n",
    "        if continue_input != 'yes':\n",
    "            break\n",
    "\n",
    "    return products\n",
    "\n",
    "\n",
    "def write_to_file(products):\n",
    "    with open(r\"F:\\Data Analysis\\sales_log.txt\", 'w') as file:\n",
    "        total_sum = 0  \n",
    "        for product in products:\n",
    "            file.write(f\"Name: {product['name']}, Price: {product['price']}, Quantity: {product['quantity']}, Total Price: {product['total_price']}\\n\")\n",
    "            total_sum += product['total_price']  \n",
    "        file.write(f\"\\nTotal Price of All Products: {total_sum}\\n\")  \n",
    "    print(\"Product data has been written to 'sales_log.txt'.\")\n",
    "\n",
    "\n",
    "def get_products_from_file():\n",
    "    try:\n",
    "        with open(r\"F:\\Data Analysis\\sales_log.txt\", 'r') as file:\n",
    "            products = file.readlines()\n",
    "            print(\"\\nList of Products:\")\n",
    "            for product in products:\n",
    "                print(product.strip())\n",
    "    except FileNotFoundError:\n",
    "        print(\"No products found. Please add products first.\")\n",
    "\n",
    "\n",
    "if __name__ == \"__main__\":\n",
    "    products = get_product_data()\n",
    "    \n",
    "    write_to_file(products)\n",
    "\n",
    "    get_products_from_file()\n"
   ]
  },
  {
   "cell_type": "code",
   "execution_count": 102,
   "id": "5f3ffd7a-cf60-41f7-a1ce-fb34d784b8fa",
   "metadata": {},
   "outputs": [
    {
     "name": "stdout",
     "output_type": "stream",
     "text": [
      "calculating average....\n",
      "1788.5714285714287\n"
     ]
    }
   ],
   "source": [
    "###Task 11: Daily Sales Average\n",
    "day1=1500\n",
    "day2=2000\n",
    "day3=2500\n",
    "day4=1000\n",
    "day5=1850\n",
    "day6=1685\n",
    "day7=1985\n",
    "\n",
    "def calculateAverage(day1,day2,day3,day4,day5,day6,day7):\n",
    "    print(\"calculating average....\")\n",
    "    average=(day1+day2+day3+day4+day5+day6+day7)/7\n",
    "    return average\n",
    "avg=calculateAverage(day1,day2,day3,day4,day5,day6,day7)\n",
    "print(avg)\n",
    "    \n"
   ]
  },
  {
   "cell_type": "code",
   "execution_count": 1,
   "id": "d4d11d08-3d3d-4b3b-b967-2c0f02475240",
   "metadata": {},
   "outputs": [
    {
     "name": "stdin",
     "output_type": "stream",
     "text": [
      "Enter customer name (or type 'done' to finish):  name1\n",
      "Enter spending amount for name1:  150\n",
      "Enter customer name (or type 'done' to finish):  nam2\n",
      "Enter spending amount for nam2:  100\n",
      "Enter customer name (or type 'done' to finish):  name3\n",
      "Enter spending amount for name3:  1500\n",
      "Enter customer name (or type 'done' to finish):  done\n"
     ]
    },
    {
     "name": "stdout",
     "output_type": "stream",
     "text": [
      "Customer: name1, Spending: INR150.0, Category: Medium Spender\n",
      "\n",
      "Customer: nam2, Spending: INR100.0, Category: Medium Spender\n",
      "\n",
      "Customer: name3, Spending: INR1500.0, Category: High Spender\n",
      "\n",
      "\n",
      "All results have been captured in 'customer_Spending.txt'.\n"
     ]
    }
   ],
   "source": [
    "##Task 12: Customer Segmentationn\n",
    "\n",
    "def categorize_spending(amount):\n",
    "    if amount < 100:\n",
    "        return \"Low Spender\"\n",
    "    elif 100 <= amount < 500:\n",
    "        return \"Medium Spender\"\n",
    "    else:\n",
    "        return \"High Spender\"\n",
    "\n",
    "\n",
    "customers = []\n",
    "\n",
    "while True:\n",
    "    name = input(\"Enter customer name (or type 'done' to finish): \")\n",
    "    if name.lower() == 'done':\n",
    "        break\n",
    "    try:\n",
    "        spending = float(input(f\"Enter spending amount for {name}: \"))\n",
    "        customers.append({\"name\": name, \"spending\": spending})\n",
    "    except ValueError:\n",
    "        print(\"Invalid input. Please enter a valid spending amount.\")\n",
    "\n",
    "with open('customer_spending_log.txt', 'w') as log_file:\n",
    "    log_file.write(\"Customer Spending Report:\\n\")\n",
    "    log_file.write(\"===========================\\n\")\n",
    "    for customer in customers:\n",
    "        category = categorize_spending(customer[\"spending\"])\n",
    "        result = f\"Customer: {customer['name']}, Spending: INR{customer['spending']}, Category: {category}\\n\"\n",
    "        print(result)\n",
    "        log_file.write(result)\n",
    "\n",
    "print(\"\\nAll results have been captured in 'customer_Spending.txt'.\")"
   ]
  },
  {
   "cell_type": "code",
   "execution_count": 3,
   "id": "e4447df6-734a-4d79-9e79-642ad900457d",
   "metadata": {},
   "outputs": [
    {
     "name": "stdin",
     "output_type": "stream",
     "text": [
      "Enter product name (or type 'done' to finish):  mouse\n",
      "Enter price for mouse:  250\n",
      "Enter discount percentage for mouse:  5\n",
      "Enter product name (or type 'done' to finish):  keyboard\n",
      "Enter price for keyboard:  1500\n",
      "Enter discount percentage for keyboard:  10\n",
      "Enter product name (or type 'done' to finish):  done\n"
     ]
    },
    {
     "name": "stdout",
     "output_type": "stream",
     "text": [
      "\n",
      "Discounted Prices Report:\n",
      "=========================\n",
      "Product: mouse, Original Price: INR250.0, Discount = 5.0%, Discounted Price: INR237.5\n",
      "Product: keyboard, Original Price: INR1500.0, Discount = 10.0%, Discounted Price: INR1350.0\n"
     ]
    }
   ],
   "source": [
    "##Task 13: Discount Calculation\n",
    "\n",
    "def calculate_discount_price(price, discount):\n",
    "    \"\"\"\n",
    "    Calculate the discounted price based on the original price and discount percentage.\n",
    "    \n",
    "    Args:\n",
    "    price (float): Original price of the product.\n",
    "    discount (float): Discount percentage to be applied.\n",
    "    \n",
    "    Returns:\n",
    "    float: Discounted price.\n",
    "    \"\"\"\n",
    "    return price - (price * discount / 100)\n",
    "\n",
    "threshold_price = 200.0  \n",
    "\n",
    "products = []\n",
    "\n",
    "while True:\n",
    "    name = input(\"Enter product name (or type 'done' to finish): \")\n",
    "    if name.lower() == 'done':\n",
    "        break\n",
    "    try:\n",
    "        price = float(input(f\"Enter price for {name}: \"))\n",
    "        discount = float(input(f\"Enter discount percentage for {name}: \"))\n",
    "        products.append({\"name\": name, \"price\": price, \"discount\": discount})\n",
    "    except ValueError:\n",
    "        print(\"Invalid input. Please enter valid numbers for price and discount.\")\n",
    "\n",
    "print(\"\\nDiscounted Prices Report:\")\n",
    "print(\"=========================\")\n",
    "for product in products:\n",
    "    if product[\"price\"] > threshold_price:\n",
    "        discounted_price = calculate_discount_price(product[\"price\"], product[\"discount\"])\n",
    "        print(f\"Product: {product['name']}, Original Price: INR{product['price']}, Discount = {product['discount']}%, Discounted Price: INR{discounted_price}\")\n",
    "    else:\n",
    "        print(f\"Product: {product['name']} is not eligible for a discount (Price: INR{product['price']}).\")\n"
   ]
  },
  {
   "cell_type": "code",
   "execution_count": 27,
   "id": "1bc4db4e-9b29-449e-b5ea-96ee9a7e9c9b",
   "metadata": {},
   "outputs": [
    {
     "name": "stdin",
     "output_type": "stream",
     "text": [
      "Enter customer feedback:  terrible\n"
     ]
    },
    {
     "name": "stdout",
     "output_type": "stream",
     "text": [
      "Negative\n"
     ]
    }
   ],
   "source": [
    "##Task 14: Customer Feedback Analysis\n",
    "\n",
    "positive_words = [\"good\", \"happy\", \"excellent\", \"amazing\", \"satisfied\", \"satisfactory\"]\n",
    "negative_words = [\"bad\", \"disappointed\", \"poor\", \"terrible\", \"unhappy\"]\n",
    "\n",
    "customer_feedback = input(\"Enter customer feedback: \").lower()\n",
    "\n",
    "is_positive = any(word in customer_feedback for word in positive_words)\n",
    "is_negative = any(word in customer_feedback for word in negative_words)\n",
    "\n",
    "if is_positive and not is_negative:\n",
    "    print(\"Positive\")\n",
    "elif is_negative and not is_positive:\n",
    "    print(\"Negative\")\n",
    "elif is_positive and is_negative:\n",
    "    print(\"Mixed Feedback\")\n",
    "else:\n",
    "    print(\"Neutral\")\n"
   ]
  },
  {
   "cell_type": "code",
   "execution_count": 31,
   "id": "0b556013-cb91-4891-95a9-aa5af944db8c",
   "metadata": {},
   "outputs": [
    {
     "name": "stdout",
     "output_type": "stream",
     "text": [
      "Updated Salaries:\n",
      "=================\n",
      "Satish: Original Salary = INR50000, Rating = Excellent, Updated Salary = INR55000.0\n",
      "Mayur: Original Salary = INR45000, Rating = Good, Updated Salary = INR48150.0\n",
      "Akash: Original Salary = INR60000, Rating = Average, Updated Salary = INR62400.0\n",
      "Preeti: Original Salary = INR55000, Rating = Poor, Updated Salary = INR55000.0\n",
      "Prashanth: Original Salary = INR47000, Rating = Good, Updated Salary = INR50290.0\n"
     ]
    }
   ],
   "source": [
    "###Task 15: Employee Salary Increment Calculator\n",
    "\n",
    "employee_performance = {\n",
    "    \"Satish\": {\"salary\": 50000, \"rating\": \"Excellent\"},\n",
    "    \"Mayur\": {\"salary\": 45000, \"rating\": \"Good\"},\n",
    "    \"Akash\": {\"salary\": 60000, \"rating\": \"Average\"},\n",
    "    \"Preeti\": {\"salary\": 55000, \"rating\": \"Poor\"},\n",
    "    \"Prashanth\": {\"salary\": 47000, \"rating\": \"Good\"}\n",
    "}\n",
    "\n",
    "increment_percentages = {\n",
    "    \"Excellent\": 10,  \n",
    "    \"Good\": 7,        \n",
    "    \"Average\": 4,     \n",
    "    \"Poor\": 0         \n",
    "}\n",
    "\n",
    "print(\"Updated Salaries:\")\n",
    "print(\"=================\")\n",
    "for employee, details in employee_performance.items():\n",
    "    salary = details[\"salary\"]\n",
    "    rating = details[\"rating\"]\n",
    "    increment = increment_percentages.get(rating, 0)  \n",
    "    updated_salary = salary + (salary * increment / 100)\n",
    "    print(f\"{employee}: Original Salary = INR{salary}, Rating = {rating}, Updated Salary = INR{updated_salary}\")\n"
   ]
  },
  {
   "cell_type": "code",
   "execution_count": 33,
   "id": "eba115af-8ec3-4374-a49e-d7a4c79dfca6",
   "metadata": {},
   "outputs": [
    {
     "name": "stdout",
     "output_type": "stream",
     "text": [
      "Monthly sales report has been generated and saved to 'monthly_report.txt'.\n"
     ]
    }
   ],
   "source": [
    "##Task 16: Monthly Sales Report Generator\n",
    "\n",
    "daily_sales = [\n",
    "    2500.00, 3000.00, 2800.00, 3200.00, 3500.00, 4000.00, 4200.00, 3800.00, 3600.00, 3400.00,\n",
    "    3700.00, 3900.00, 4100.00, 4300.00, 4500.00, 4700.00, 4900.00, 5100.00, 5300.00, 5500.00,\n",
    "    5700.00, 5900.00, 6100.00, 6300.00, 6500.00, 6700.00, 6900.00, 7100.00, 7300.00, 7500.00\n",
    "]\n",
    "\n",
    "total_sales = sum(daily_sales)\n",
    "\n",
    "average_sales = total_sales / len(daily_sales)\n",
    "\n",
    "\n",
    "with open('monthly_report.txt', 'w') as file:\n",
    "    file.write(\"Monthly Sales Report\\n\")\n",
    "    file.write(\"====================\\n\")\n",
    "    file.write(f\"Total Sales: ${total_sales:.2f}\\n\")\n",
    "    file.write(f\"Average Daily Sales: ${average_sales:.2f}\\n\")\n",
    "\n",
    "\n",
    "print(\"Monthly sales report has been generated and saved to 'monthly_report.txt'.\")\n"
   ]
  },
  {
   "cell_type": "code",
   "execution_count": 35,
   "id": "e3abb636-1cff-4178-82b4-0b547234c543",
   "metadata": {},
   "outputs": [
    {
     "name": "stdout",
     "output_type": "stream",
     "text": [
      "Products that need to be reordered:\n",
      "Wireless Mouse\n",
      "Keyboard\n",
      "Monitor\n",
      "Webcam\n"
     ]
    }
   ],
   "source": [
    "##Task 17: Stock Replenishment Planning\n",
    "\n",
    "\n",
    "products = [\n",
    "    {\"name\": \"Wireless Mouse\", \"stock\": 5},\n",
    "    {\"name\": \"Laptop Stand\", \"stock\": 12},\n",
    "    {\"name\": \"Keyboard\", \"stock\": 3},\n",
    "    {\"name\": \"Monitor\", \"stock\": 8},\n",
    "    {\"name\": \"USB Hub\", \"stock\": 15},\n",
    "    {\"name\": \"Webcam\", \"stock\": 2}\n",
    "]\n",
    "\n",
    "stock_threshold = 10  \n",
    "\n",
    "reorder_list = [product[\"name\"] for product in products if product[\"stock\"] < stock_threshold]\n",
    "\n",
    "print(\"Products that need to be reordered:\")\n",
    "for product in reorder_list:\n",
    "    print(product)"
   ]
  },
  {
   "cell_type": "code",
   "execution_count": 39,
   "id": "021216b9-d412-4a1e-9dd4-dfef3ac0d81a",
   "metadata": {},
   "outputs": [
    {
     "name": "stdout",
     "output_type": "stream",
     "text": [
      "Cleaned Customer Names for Database Entry:\n",
      "Satish Kumar\n",
      "Manasa Ponna\n",
      "Sanjoy Paul\n",
      "Santosh Kumar\n"
     ]
    }
   ],
   "source": [
    "##Task 18: Data Cleaning Utility\n",
    "\n",
    "customer_names = [\n",
    "    \"  SATISH KUMAR  \",\n",
    "    \"manasa ponna \",\n",
    "    \" SANJOY PAUL\",\n",
    "    \"SANTOSH kUMAR \",\n",
    "    \n",
    "]\n",
    "\n",
    "def clean_name(name):\n",
    "    \n",
    "    return name.strip().title()\n",
    "\n",
    "cleaned_names = [clean_name(name) for name in customer_names]\n",
    "\n",
    "print(\"Cleaned Customer Names for Database Entry:\")\n",
    "for name in cleaned_names:\n",
    "    print(name)\n"
   ]
  },
  {
   "cell_type": "code",
   "execution_count": 43,
   "id": "53655023-bda2-43ac-8f94-144c5aee7d28",
   "metadata": {},
   "outputs": [
    {
     "name": "stdout",
     "output_type": "stream",
     "text": [
      "Forecasted Sales for Next Month: INR46666.67\n"
     ]
    }
   ],
   "source": [
    "##Task 19: Simple Sales Forecasting\n",
    "\n",
    "sales_last_3_months = [\n",
    "    45000.00,  # Sales for Month 1\n",
    "    48000.00,  # Sales for Month 2\n",
    "    47000.00   # Sales for Month 3\n",
    "]\n",
    "\n",
    "average_sales = sum(sales_last_3_months) / len(sales_last_3_months)\n",
    "\n",
    "forecasted_sales = average_sales\n",
    "\n",
    "print(f\"Forecasted Sales for Next Month: INR{forecasted_sales:.2f}\")\n"
   ]
  },
  {
   "cell_type": "code",
   "execution_count": 49,
   "id": "a63e31e6-b7f5-4f6c-9bd8-90374e281d83",
   "metadata": {},
   "outputs": [
    {
     "name": "stdin",
     "output_type": "stream",
     "text": [
      "Enter customer name (or type 'done' to finish):  satish\n",
      "Enter total purchase amount for satish:  25000\n",
      "Enter customer name (or type 'done' to finish):  santosh\n",
      "Enter total purchase amount for santosh:  1500\n",
      "Enter customer name (or type 'done' to finish):  manasa\n",
      "Enter total purchase amount for manasa:  100\n",
      "Enter customer name (or type 'done' to finish):  done\n"
     ]
    },
    {
     "name": "stdout",
     "output_type": "stream",
     "text": [
      "\n",
      "Customer Loyalty Points Report:\n",
      "===============================\n",
      "satish: Purchase Amount = INR25000.00, Loyalty Points = 12500\n",
      "santosh: Purchase Amount = INR1500.00, Loyalty Points = 750\n",
      "manasa: Purchase Amount = INR100.00, Loyalty Points = 10\n"
     ]
    }
   ],
   "source": [
    "##Task 20: Customer Loyalty Points Calculator\n",
    "\n",
    "def calculate_loyalty_points(amount):\n",
    "    if amount >= 1000:\n",
    "        return int(amount * 0.50)  # 2 points per dollar for purchases of $500 and above\n",
    "    elif amount >= 500:\n",
    "        return int(amount * 0.25)  # 1.5 points per dollar for purchases between $200 and $499\n",
    "    else:\n",
    "        return int(amount * 0.10)  # 1 point per dollar for purchases below $200\n",
    "\n",
    "customers = []\n",
    "\n",
    "while True:\n",
    "    name = input(\"Enter customer name (or type 'done' to finish): \")\n",
    "    if name.lower() == 'done':\n",
    "        break\n",
    "    try:\n",
    "        purchase_amount = float(input(f\"Enter total purchase amount for {name}: \"))\n",
    "        customers.append({\"name\": name, \"purchase_amount\": purchase_amount})\n",
    "    except ValueError:\n",
    "        print(\"Invalid input. Please enter a valid purchase amount.\")\n",
    "\n",
    "print(\"\\nCustomer Loyalty Points Report:\")\n",
    "print(\"===============================\")\n",
    "for customer in customers:\n",
    "    points = calculate_loyalty_points(customer[\"purchase_amount\"])\n",
    "    print(f\"{customer['name']}: Purchase Amount = INR{customer['purchase_amount']:.2f}, Loyalty Points = {points}\")\n"
   ]
  },
  {
   "cell_type": "code",
   "execution_count": null,
   "id": "f055e885-ae45-41e3-8d17-3d20076ea991",
   "metadata": {},
   "outputs": [],
   "source": []
  }
 ],
 "metadata": {
  "kernelspec": {
   "display_name": "Python 3 (ipykernel)",
   "language": "python",
   "name": "python3"
  },
  "language_info": {
   "codemirror_mode": {
    "name": "ipython",
    "version": 3
   },
   "file_extension": ".py",
   "mimetype": "text/x-python",
   "name": "python",
   "nbconvert_exporter": "python",
   "pygments_lexer": "ipython3",
   "version": "3.12.4"
  }
 },
 "nbformat": 4,
 "nbformat_minor": 5
}
